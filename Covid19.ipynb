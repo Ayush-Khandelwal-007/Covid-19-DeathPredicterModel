{
  "nbformat": 4,
  "nbformat_minor": 0,
  "metadata": {
    "colab": {
      "name": "IIT2019240_Q5.ipynb",
      "provenance": []
    },
    "kernelspec": {
      "name": "python3",
      "display_name": "Python 3"
    },
    "language_info": {
      "name": "python"
    }
  },
  "cells": [
    {
      "cell_type": "markdown",
      "metadata": {
        "id": "9_zLS9p5C-fm"
      },
      "source": [
        "# Importing different libraries used for making the regression model."
      ]
    },
    {
      "cell_type": "code",
      "metadata": {
        "id": "a1ROfB_XpO3o"
      },
      "source": [
        "import matplotlib.pyplot as plt #To Plot Graph for the data.\n",
        "import pandas as pd #For importing and manipulating data\n",
        "\n",
        "df = pd.read_csv (r'/covid_19_india.csv')\n"
      ],
      "execution_count": 1,
      "outputs": []
    },
    {
      "cell_type": "markdown",
      "metadata": {
        "id": "K0f9FXWiCw2x"
      },
      "source": [
        "# Displaying the initial data."
      ]
    },
    {
      "cell_type": "code",
      "metadata": {
        "colab": {
          "base_uri": "https://localhost:8080/",
          "height": 0
        },
        "id": "ZPgmn7mcsUzE",
        "outputId": "0cb1d1ca-9f6d-46e7-9be9-1eb0029c4f0d"
      },
      "source": [
        "df"
      ],
      "execution_count": 2,
      "outputs": [
        {
          "output_type": "execute_result",
          "data": {
            "text/html": [
              "<div>\n",
              "<style scoped>\n",
              "    .dataframe tbody tr th:only-of-type {\n",
              "        vertical-align: middle;\n",
              "    }\n",
              "\n",
              "    .dataframe tbody tr th {\n",
              "        vertical-align: top;\n",
              "    }\n",
              "\n",
              "    .dataframe thead th {\n",
              "        text-align: right;\n",
              "    }\n",
              "</style>\n",
              "<table border=\"1\" class=\"dataframe\">\n",
              "  <thead>\n",
              "    <tr style=\"text-align: right;\">\n",
              "      <th></th>\n",
              "      <th>Sno</th>\n",
              "      <th>Date</th>\n",
              "      <th>Time</th>\n",
              "      <th>State/UnionTerritory</th>\n",
              "      <th>ConfirmedIndianNational</th>\n",
              "      <th>ConfirmedForeignNational</th>\n",
              "      <th>Cured</th>\n",
              "      <th>Deaths</th>\n",
              "      <th>Confirmed</th>\n",
              "    </tr>\n",
              "  </thead>\n",
              "  <tbody>\n",
              "    <tr>\n",
              "      <th>0</th>\n",
              "      <td>1</td>\n",
              "      <td>2020-01-30</td>\n",
              "      <td>6:00 PM</td>\n",
              "      <td>Kerala</td>\n",
              "      <td>1</td>\n",
              "      <td>0</td>\n",
              "      <td>0</td>\n",
              "      <td>0</td>\n",
              "      <td>1</td>\n",
              "    </tr>\n",
              "    <tr>\n",
              "      <th>1</th>\n",
              "      <td>2</td>\n",
              "      <td>2020-01-31</td>\n",
              "      <td>6:00 PM</td>\n",
              "      <td>Kerala</td>\n",
              "      <td>1</td>\n",
              "      <td>0</td>\n",
              "      <td>0</td>\n",
              "      <td>0</td>\n",
              "      <td>1</td>\n",
              "    </tr>\n",
              "    <tr>\n",
              "      <th>2</th>\n",
              "      <td>3</td>\n",
              "      <td>2020-02-01</td>\n",
              "      <td>6:00 PM</td>\n",
              "      <td>Kerala</td>\n",
              "      <td>2</td>\n",
              "      <td>0</td>\n",
              "      <td>0</td>\n",
              "      <td>0</td>\n",
              "      <td>2</td>\n",
              "    </tr>\n",
              "    <tr>\n",
              "      <th>3</th>\n",
              "      <td>4</td>\n",
              "      <td>2020-02-02</td>\n",
              "      <td>6:00 PM</td>\n",
              "      <td>Kerala</td>\n",
              "      <td>3</td>\n",
              "      <td>0</td>\n",
              "      <td>0</td>\n",
              "      <td>0</td>\n",
              "      <td>3</td>\n",
              "    </tr>\n",
              "    <tr>\n",
              "      <th>4</th>\n",
              "      <td>5</td>\n",
              "      <td>2020-02-03</td>\n",
              "      <td>6:00 PM</td>\n",
              "      <td>Kerala</td>\n",
              "      <td>3</td>\n",
              "      <td>0</td>\n",
              "      <td>0</td>\n",
              "      <td>0</td>\n",
              "      <td>3</td>\n",
              "    </tr>\n",
              "    <tr>\n",
              "      <th>...</th>\n",
              "      <td>...</td>\n",
              "      <td>...</td>\n",
              "      <td>...</td>\n",
              "      <td>...</td>\n",
              "      <td>...</td>\n",
              "      <td>...</td>\n",
              "      <td>...</td>\n",
              "      <td>...</td>\n",
              "      <td>...</td>\n",
              "    </tr>\n",
              "    <tr>\n",
              "      <th>18105</th>\n",
              "      <td>18106</td>\n",
              "      <td>2021-08-11</td>\n",
              "      <td>8:00 AM</td>\n",
              "      <td>Telangana</td>\n",
              "      <td>-</td>\n",
              "      <td>-</td>\n",
              "      <td>638410</td>\n",
              "      <td>3831</td>\n",
              "      <td>650353</td>\n",
              "    </tr>\n",
              "    <tr>\n",
              "      <th>18106</th>\n",
              "      <td>18107</td>\n",
              "      <td>2021-08-11</td>\n",
              "      <td>8:00 AM</td>\n",
              "      <td>Tripura</td>\n",
              "      <td>-</td>\n",
              "      <td>-</td>\n",
              "      <td>77811</td>\n",
              "      <td>773</td>\n",
              "      <td>80660</td>\n",
              "    </tr>\n",
              "    <tr>\n",
              "      <th>18107</th>\n",
              "      <td>18108</td>\n",
              "      <td>2021-08-11</td>\n",
              "      <td>8:00 AM</td>\n",
              "      <td>Uttarakhand</td>\n",
              "      <td>-</td>\n",
              "      <td>-</td>\n",
              "      <td>334650</td>\n",
              "      <td>7368</td>\n",
              "      <td>342462</td>\n",
              "    </tr>\n",
              "    <tr>\n",
              "      <th>18108</th>\n",
              "      <td>18109</td>\n",
              "      <td>2021-08-11</td>\n",
              "      <td>8:00 AM</td>\n",
              "      <td>Uttar Pradesh</td>\n",
              "      <td>-</td>\n",
              "      <td>-</td>\n",
              "      <td>1685492</td>\n",
              "      <td>22775</td>\n",
              "      <td>1708812</td>\n",
              "    </tr>\n",
              "    <tr>\n",
              "      <th>18109</th>\n",
              "      <td>18110</td>\n",
              "      <td>2021-08-11</td>\n",
              "      <td>8:00 AM</td>\n",
              "      <td>West Bengal</td>\n",
              "      <td>-</td>\n",
              "      <td>-</td>\n",
              "      <td>1506532</td>\n",
              "      <td>18252</td>\n",
              "      <td>1534999</td>\n",
              "    </tr>\n",
              "  </tbody>\n",
              "</table>\n",
              "<p>18110 rows × 9 columns</p>\n",
              "</div>"
            ],
            "text/plain": [
              "         Sno        Date     Time  ...    Cured Deaths Confirmed\n",
              "0          1  2020-01-30  6:00 PM  ...        0      0         1\n",
              "1          2  2020-01-31  6:00 PM  ...        0      0         1\n",
              "2          3  2020-02-01  6:00 PM  ...        0      0         2\n",
              "3          4  2020-02-02  6:00 PM  ...        0      0         3\n",
              "4          5  2020-02-03  6:00 PM  ...        0      0         3\n",
              "...      ...         ...      ...  ...      ...    ...       ...\n",
              "18105  18106  2021-08-11  8:00 AM  ...   638410   3831    650353\n",
              "18106  18107  2021-08-11  8:00 AM  ...    77811    773     80660\n",
              "18107  18108  2021-08-11  8:00 AM  ...   334650   7368    342462\n",
              "18108  18109  2021-08-11  8:00 AM  ...  1685492  22775   1708812\n",
              "18109  18110  2021-08-11  8:00 AM  ...  1506532  18252   1534999\n",
              "\n",
              "[18110 rows x 9 columns]"
            ]
          },
          "metadata": {},
          "execution_count": 2
        }
      ]
    },
    {
      "cell_type": "markdown",
      "metadata": {
        "id": "gE2j0sHMDURK"
      },
      "source": [
        "# Filtering all data that indicates data before the required month, i.e., May,2021.\n",
        "\n",
        "(Taking an extra day as the data is cumilitve and we will have to take difference later, so we need previous days data to get the increase.)"
      ]
    },
    {
      "cell_type": "code",
      "metadata": {
        "colab": {
          "base_uri": "https://localhost:8080/",
          "height": 0
        },
        "id": "rq4x890ctXD6",
        "outputId": "249154ad-2191-43ef-ed41-0dcd3491c05e"
      },
      "source": [
        "df_from_May = df[df['Date'] >= '2021-04-30']\n",
        "df_from_May"
      ],
      "execution_count": 3,
      "outputs": [
        {
          "output_type": "execute_result",
          "data": {
            "text/html": [
              "<div>\n",
              "<style scoped>\n",
              "    .dataframe tbody tr th:only-of-type {\n",
              "        vertical-align: middle;\n",
              "    }\n",
              "\n",
              "    .dataframe tbody tr th {\n",
              "        vertical-align: top;\n",
              "    }\n",
              "\n",
              "    .dataframe thead th {\n",
              "        text-align: right;\n",
              "    }\n",
              "</style>\n",
              "<table border=\"1\" class=\"dataframe\">\n",
              "  <thead>\n",
              "    <tr style=\"text-align: right;\">\n",
              "      <th></th>\n",
              "      <th>Sno</th>\n",
              "      <th>Date</th>\n",
              "      <th>Time</th>\n",
              "      <th>State/UnionTerritory</th>\n",
              "      <th>ConfirmedIndianNational</th>\n",
              "      <th>ConfirmedForeignNational</th>\n",
              "      <th>Cured</th>\n",
              "      <th>Deaths</th>\n",
              "      <th>Confirmed</th>\n",
              "    </tr>\n",
              "  </thead>\n",
              "  <tbody>\n",
              "    <tr>\n",
              "      <th>14366</th>\n",
              "      <td>14367</td>\n",
              "      <td>2021-04-30</td>\n",
              "      <td>8:00 AM</td>\n",
              "      <td>Andaman and Nicobar Islands</td>\n",
              "      <td>-</td>\n",
              "      <td>-</td>\n",
              "      <td>5643</td>\n",
              "      <td>67</td>\n",
              "      <td>5875</td>\n",
              "    </tr>\n",
              "    <tr>\n",
              "      <th>14367</th>\n",
              "      <td>14368</td>\n",
              "      <td>2021-04-30</td>\n",
              "      <td>8:00 AM</td>\n",
              "      <td>Andhra Pradesh</td>\n",
              "      <td>-</td>\n",
              "      <td>-</td>\n",
              "      <td>962250</td>\n",
              "      <td>7928</td>\n",
              "      <td>1084336</td>\n",
              "    </tr>\n",
              "    <tr>\n",
              "      <th>14368</th>\n",
              "      <td>14369</td>\n",
              "      <td>2021-04-30</td>\n",
              "      <td>8:00 AM</td>\n",
              "      <td>Arunachal Pradesh</td>\n",
              "      <td>-</td>\n",
              "      <td>-</td>\n",
              "      <td>17085</td>\n",
              "      <td>59</td>\n",
              "      <td>18256</td>\n",
              "    </tr>\n",
              "    <tr>\n",
              "      <th>14369</th>\n",
              "      <td>14370</td>\n",
              "      <td>2021-04-30</td>\n",
              "      <td>8:00 AM</td>\n",
              "      <td>Assam</td>\n",
              "      <td>-</td>\n",
              "      <td>-</td>\n",
              "      <td>224194</td>\n",
              "      <td>1281</td>\n",
              "      <td>249926</td>\n",
              "    </tr>\n",
              "    <tr>\n",
              "      <th>14370</th>\n",
              "      <td>14371</td>\n",
              "      <td>2021-04-30</td>\n",
              "      <td>8:00 AM</td>\n",
              "      <td>Bihar</td>\n",
              "      <td>-</td>\n",
              "      <td>-</td>\n",
              "      <td>351162</td>\n",
              "      <td>2480</td>\n",
              "      <td>454464</td>\n",
              "    </tr>\n",
              "    <tr>\n",
              "      <th>...</th>\n",
              "      <td>...</td>\n",
              "      <td>...</td>\n",
              "      <td>...</td>\n",
              "      <td>...</td>\n",
              "      <td>...</td>\n",
              "      <td>...</td>\n",
              "      <td>...</td>\n",
              "      <td>...</td>\n",
              "      <td>...</td>\n",
              "    </tr>\n",
              "    <tr>\n",
              "      <th>18105</th>\n",
              "      <td>18106</td>\n",
              "      <td>2021-08-11</td>\n",
              "      <td>8:00 AM</td>\n",
              "      <td>Telangana</td>\n",
              "      <td>-</td>\n",
              "      <td>-</td>\n",
              "      <td>638410</td>\n",
              "      <td>3831</td>\n",
              "      <td>650353</td>\n",
              "    </tr>\n",
              "    <tr>\n",
              "      <th>18106</th>\n",
              "      <td>18107</td>\n",
              "      <td>2021-08-11</td>\n",
              "      <td>8:00 AM</td>\n",
              "      <td>Tripura</td>\n",
              "      <td>-</td>\n",
              "      <td>-</td>\n",
              "      <td>77811</td>\n",
              "      <td>773</td>\n",
              "      <td>80660</td>\n",
              "    </tr>\n",
              "    <tr>\n",
              "      <th>18107</th>\n",
              "      <td>18108</td>\n",
              "      <td>2021-08-11</td>\n",
              "      <td>8:00 AM</td>\n",
              "      <td>Uttarakhand</td>\n",
              "      <td>-</td>\n",
              "      <td>-</td>\n",
              "      <td>334650</td>\n",
              "      <td>7368</td>\n",
              "      <td>342462</td>\n",
              "    </tr>\n",
              "    <tr>\n",
              "      <th>18108</th>\n",
              "      <td>18109</td>\n",
              "      <td>2021-08-11</td>\n",
              "      <td>8:00 AM</td>\n",
              "      <td>Uttar Pradesh</td>\n",
              "      <td>-</td>\n",
              "      <td>-</td>\n",
              "      <td>1685492</td>\n",
              "      <td>22775</td>\n",
              "      <td>1708812</td>\n",
              "    </tr>\n",
              "    <tr>\n",
              "      <th>18109</th>\n",
              "      <td>18110</td>\n",
              "      <td>2021-08-11</td>\n",
              "      <td>8:00 AM</td>\n",
              "      <td>West Bengal</td>\n",
              "      <td>-</td>\n",
              "      <td>-</td>\n",
              "      <td>1506532</td>\n",
              "      <td>18252</td>\n",
              "      <td>1534999</td>\n",
              "    </tr>\n",
              "  </tbody>\n",
              "</table>\n",
              "<p>3744 rows × 9 columns</p>\n",
              "</div>"
            ],
            "text/plain": [
              "         Sno        Date     Time  ...    Cured Deaths Confirmed\n",
              "14366  14367  2021-04-30  8:00 AM  ...     5643     67      5875\n",
              "14367  14368  2021-04-30  8:00 AM  ...   962250   7928   1084336\n",
              "14368  14369  2021-04-30  8:00 AM  ...    17085     59     18256\n",
              "14369  14370  2021-04-30  8:00 AM  ...   224194   1281    249926\n",
              "14370  14371  2021-04-30  8:00 AM  ...   351162   2480    454464\n",
              "...      ...         ...      ...  ...      ...    ...       ...\n",
              "18105  18106  2021-08-11  8:00 AM  ...   638410   3831    650353\n",
              "18106  18107  2021-08-11  8:00 AM  ...    77811    773     80660\n",
              "18107  18108  2021-08-11  8:00 AM  ...   334650   7368    342462\n",
              "18108  18109  2021-08-11  8:00 AM  ...  1685492  22775   1708812\n",
              "18109  18110  2021-08-11  8:00 AM  ...  1506532  18252   1534999\n",
              "\n",
              "[3744 rows x 9 columns]"
            ]
          },
          "metadata": {},
          "execution_count": 3
        }
      ]
    },
    {
      "cell_type": "markdown",
      "metadata": {
        "id": "GdH5sBUkDiEW"
      },
      "source": [
        "# Filtering all data that indicates data after the required month, i.e., May,2021."
      ]
    },
    {
      "cell_type": "code",
      "metadata": {
        "colab": {
          "base_uri": "https://localhost:8080/",
          "height": 0
        },
        "id": "7cusrWQm-EOO",
        "outputId": "05148245-9ebf-4af3-87cd-354e6da4ea6d"
      },
      "source": [
        "df_May=df_from_May[df_from_May['Date'] <= '2021-05-31']\n",
        "df_May"
      ],
      "execution_count": 4,
      "outputs": [
        {
          "output_type": "execute_result",
          "data": {
            "text/html": [
              "<div>\n",
              "<style scoped>\n",
              "    .dataframe tbody tr th:only-of-type {\n",
              "        vertical-align: middle;\n",
              "    }\n",
              "\n",
              "    .dataframe tbody tr th {\n",
              "        vertical-align: top;\n",
              "    }\n",
              "\n",
              "    .dataframe thead th {\n",
              "        text-align: right;\n",
              "    }\n",
              "</style>\n",
              "<table border=\"1\" class=\"dataframe\">\n",
              "  <thead>\n",
              "    <tr style=\"text-align: right;\">\n",
              "      <th></th>\n",
              "      <th>Sno</th>\n",
              "      <th>Date</th>\n",
              "      <th>Time</th>\n",
              "      <th>State/UnionTerritory</th>\n",
              "      <th>ConfirmedIndianNational</th>\n",
              "      <th>ConfirmedForeignNational</th>\n",
              "      <th>Cured</th>\n",
              "      <th>Deaths</th>\n",
              "      <th>Confirmed</th>\n",
              "    </tr>\n",
              "  </thead>\n",
              "  <tbody>\n",
              "    <tr>\n",
              "      <th>14366</th>\n",
              "      <td>14367</td>\n",
              "      <td>2021-04-30</td>\n",
              "      <td>8:00 AM</td>\n",
              "      <td>Andaman and Nicobar Islands</td>\n",
              "      <td>-</td>\n",
              "      <td>-</td>\n",
              "      <td>5643</td>\n",
              "      <td>67</td>\n",
              "      <td>5875</td>\n",
              "    </tr>\n",
              "    <tr>\n",
              "      <th>14367</th>\n",
              "      <td>14368</td>\n",
              "      <td>2021-04-30</td>\n",
              "      <td>8:00 AM</td>\n",
              "      <td>Andhra Pradesh</td>\n",
              "      <td>-</td>\n",
              "      <td>-</td>\n",
              "      <td>962250</td>\n",
              "      <td>7928</td>\n",
              "      <td>1084336</td>\n",
              "    </tr>\n",
              "    <tr>\n",
              "      <th>14368</th>\n",
              "      <td>14369</td>\n",
              "      <td>2021-04-30</td>\n",
              "      <td>8:00 AM</td>\n",
              "      <td>Arunachal Pradesh</td>\n",
              "      <td>-</td>\n",
              "      <td>-</td>\n",
              "      <td>17085</td>\n",
              "      <td>59</td>\n",
              "      <td>18256</td>\n",
              "    </tr>\n",
              "    <tr>\n",
              "      <th>14369</th>\n",
              "      <td>14370</td>\n",
              "      <td>2021-04-30</td>\n",
              "      <td>8:00 AM</td>\n",
              "      <td>Assam</td>\n",
              "      <td>-</td>\n",
              "      <td>-</td>\n",
              "      <td>224194</td>\n",
              "      <td>1281</td>\n",
              "      <td>249926</td>\n",
              "    </tr>\n",
              "    <tr>\n",
              "      <th>14370</th>\n",
              "      <td>14371</td>\n",
              "      <td>2021-04-30</td>\n",
              "      <td>8:00 AM</td>\n",
              "      <td>Bihar</td>\n",
              "      <td>-</td>\n",
              "      <td>-</td>\n",
              "      <td>351162</td>\n",
              "      <td>2480</td>\n",
              "      <td>454464</td>\n",
              "    </tr>\n",
              "    <tr>\n",
              "      <th>...</th>\n",
              "      <td>...</td>\n",
              "      <td>...</td>\n",
              "      <td>...</td>\n",
              "      <td>...</td>\n",
              "      <td>...</td>\n",
              "      <td>...</td>\n",
              "      <td>...</td>\n",
              "      <td>...</td>\n",
              "      <td>...</td>\n",
              "    </tr>\n",
              "    <tr>\n",
              "      <th>15513</th>\n",
              "      <td>15514</td>\n",
              "      <td>2021-05-31</td>\n",
              "      <td>8:00 AM</td>\n",
              "      <td>Telangana</td>\n",
              "      <td>-</td>\n",
              "      <td>-</td>\n",
              "      <td>537522</td>\n",
              "      <td>3263</td>\n",
              "      <td>575827</td>\n",
              "    </tr>\n",
              "    <tr>\n",
              "      <th>15514</th>\n",
              "      <td>15515</td>\n",
              "      <td>2021-05-31</td>\n",
              "      <td>8:00 AM</td>\n",
              "      <td>Tripura</td>\n",
              "      <td>-</td>\n",
              "      <td>-</td>\n",
              "      <td>44063</td>\n",
              "      <td>513</td>\n",
              "      <td>51133</td>\n",
              "    </tr>\n",
              "    <tr>\n",
              "      <th>15515</th>\n",
              "      <td>15516</td>\n",
              "      <td>2021-05-31</td>\n",
              "      <td>8:00 AM</td>\n",
              "      <td>Uttarakhand</td>\n",
              "      <td>-</td>\n",
              "      <td>-</td>\n",
              "      <td>291580</td>\n",
              "      <td>6401</td>\n",
              "      <td>328338</td>\n",
              "    </tr>\n",
              "    <tr>\n",
              "      <th>15516</th>\n",
              "      <td>15517</td>\n",
              "      <td>2021-05-31</td>\n",
              "      <td>8:00 AM</td>\n",
              "      <td>Uttar Pradesh</td>\n",
              "      <td>-</td>\n",
              "      <td>-</td>\n",
              "      <td>1628456</td>\n",
              "      <td>20346</td>\n",
              "      <td>1690016</td>\n",
              "    </tr>\n",
              "    <tr>\n",
              "      <th>15517</th>\n",
              "      <td>15518</td>\n",
              "      <td>2021-05-31</td>\n",
              "      <td>8:00 AM</td>\n",
              "      <td>West Bengal</td>\n",
              "      <td>-</td>\n",
              "      <td>-</td>\n",
              "      <td>1255932</td>\n",
              "      <td>15410</td>\n",
              "      <td>1366240</td>\n",
              "    </tr>\n",
              "  </tbody>\n",
              "</table>\n",
              "<p>1152 rows × 9 columns</p>\n",
              "</div>"
            ],
            "text/plain": [
              "         Sno        Date     Time  ...    Cured Deaths Confirmed\n",
              "14366  14367  2021-04-30  8:00 AM  ...     5643     67      5875\n",
              "14367  14368  2021-04-30  8:00 AM  ...   962250   7928   1084336\n",
              "14368  14369  2021-04-30  8:00 AM  ...    17085     59     18256\n",
              "14369  14370  2021-04-30  8:00 AM  ...   224194   1281    249926\n",
              "14370  14371  2021-04-30  8:00 AM  ...   351162   2480    454464\n",
              "...      ...         ...      ...  ...      ...    ...       ...\n",
              "15513  15514  2021-05-31  8:00 AM  ...   537522   3263    575827\n",
              "15514  15515  2021-05-31  8:00 AM  ...    44063    513     51133\n",
              "15515  15516  2021-05-31  8:00 AM  ...   291580   6401    328338\n",
              "15516  15517  2021-05-31  8:00 AM  ...  1628456  20346   1690016\n",
              "15517  15518  2021-05-31  8:00 AM  ...  1255932  15410   1366240\n",
              "\n",
              "[1152 rows x 9 columns]"
            ]
          },
          "metadata": {},
          "execution_count": 4
        }
      ]
    },
    {
      "cell_type": "markdown",
      "metadata": {
        "id": "rP3Pm40vD1ph"
      },
      "source": [
        "# Dropping off the columns that will not be used for the model."
      ]
    },
    {
      "cell_type": "code",
      "metadata": {
        "colab": {
          "base_uri": "https://localhost:8080/",
          "height": 0
        },
        "id": "B6AdJnBh_QhO",
        "outputId": "a792acab-1738-4a9a-a4a7-d81ff190e34a"
      },
      "source": [
        "del df_May['Time']\n",
        "del df_May['State/UnionTerritory']\n",
        "del df_May['ConfirmedIndianNational']\n",
        "\n",
        "df_May"
      ],
      "execution_count": 5,
      "outputs": [
        {
          "output_type": "execute_result",
          "data": {
            "text/html": [
              "<div>\n",
              "<style scoped>\n",
              "    .dataframe tbody tr th:only-of-type {\n",
              "        vertical-align: middle;\n",
              "    }\n",
              "\n",
              "    .dataframe tbody tr th {\n",
              "        vertical-align: top;\n",
              "    }\n",
              "\n",
              "    .dataframe thead th {\n",
              "        text-align: right;\n",
              "    }\n",
              "</style>\n",
              "<table border=\"1\" class=\"dataframe\">\n",
              "  <thead>\n",
              "    <tr style=\"text-align: right;\">\n",
              "      <th></th>\n",
              "      <th>Sno</th>\n",
              "      <th>Date</th>\n",
              "      <th>ConfirmedForeignNational</th>\n",
              "      <th>Cured</th>\n",
              "      <th>Deaths</th>\n",
              "      <th>Confirmed</th>\n",
              "    </tr>\n",
              "  </thead>\n",
              "  <tbody>\n",
              "    <tr>\n",
              "      <th>14366</th>\n",
              "      <td>14367</td>\n",
              "      <td>2021-04-30</td>\n",
              "      <td>-</td>\n",
              "      <td>5643</td>\n",
              "      <td>67</td>\n",
              "      <td>5875</td>\n",
              "    </tr>\n",
              "    <tr>\n",
              "      <th>14367</th>\n",
              "      <td>14368</td>\n",
              "      <td>2021-04-30</td>\n",
              "      <td>-</td>\n",
              "      <td>962250</td>\n",
              "      <td>7928</td>\n",
              "      <td>1084336</td>\n",
              "    </tr>\n",
              "    <tr>\n",
              "      <th>14368</th>\n",
              "      <td>14369</td>\n",
              "      <td>2021-04-30</td>\n",
              "      <td>-</td>\n",
              "      <td>17085</td>\n",
              "      <td>59</td>\n",
              "      <td>18256</td>\n",
              "    </tr>\n",
              "    <tr>\n",
              "      <th>14369</th>\n",
              "      <td>14370</td>\n",
              "      <td>2021-04-30</td>\n",
              "      <td>-</td>\n",
              "      <td>224194</td>\n",
              "      <td>1281</td>\n",
              "      <td>249926</td>\n",
              "    </tr>\n",
              "    <tr>\n",
              "      <th>14370</th>\n",
              "      <td>14371</td>\n",
              "      <td>2021-04-30</td>\n",
              "      <td>-</td>\n",
              "      <td>351162</td>\n",
              "      <td>2480</td>\n",
              "      <td>454464</td>\n",
              "    </tr>\n",
              "    <tr>\n",
              "      <th>...</th>\n",
              "      <td>...</td>\n",
              "      <td>...</td>\n",
              "      <td>...</td>\n",
              "      <td>...</td>\n",
              "      <td>...</td>\n",
              "      <td>...</td>\n",
              "    </tr>\n",
              "    <tr>\n",
              "      <th>15513</th>\n",
              "      <td>15514</td>\n",
              "      <td>2021-05-31</td>\n",
              "      <td>-</td>\n",
              "      <td>537522</td>\n",
              "      <td>3263</td>\n",
              "      <td>575827</td>\n",
              "    </tr>\n",
              "    <tr>\n",
              "      <th>15514</th>\n",
              "      <td>15515</td>\n",
              "      <td>2021-05-31</td>\n",
              "      <td>-</td>\n",
              "      <td>44063</td>\n",
              "      <td>513</td>\n",
              "      <td>51133</td>\n",
              "    </tr>\n",
              "    <tr>\n",
              "      <th>15515</th>\n",
              "      <td>15516</td>\n",
              "      <td>2021-05-31</td>\n",
              "      <td>-</td>\n",
              "      <td>291580</td>\n",
              "      <td>6401</td>\n",
              "      <td>328338</td>\n",
              "    </tr>\n",
              "    <tr>\n",
              "      <th>15516</th>\n",
              "      <td>15517</td>\n",
              "      <td>2021-05-31</td>\n",
              "      <td>-</td>\n",
              "      <td>1628456</td>\n",
              "      <td>20346</td>\n",
              "      <td>1690016</td>\n",
              "    </tr>\n",
              "    <tr>\n",
              "      <th>15517</th>\n",
              "      <td>15518</td>\n",
              "      <td>2021-05-31</td>\n",
              "      <td>-</td>\n",
              "      <td>1255932</td>\n",
              "      <td>15410</td>\n",
              "      <td>1366240</td>\n",
              "    </tr>\n",
              "  </tbody>\n",
              "</table>\n",
              "<p>1152 rows × 6 columns</p>\n",
              "</div>"
            ],
            "text/plain": [
              "         Sno        Date ConfirmedForeignNational    Cured  Deaths  Confirmed\n",
              "14366  14367  2021-04-30                        -     5643      67       5875\n",
              "14367  14368  2021-04-30                        -   962250    7928    1084336\n",
              "14368  14369  2021-04-30                        -    17085      59      18256\n",
              "14369  14370  2021-04-30                        -   224194    1281     249926\n",
              "14370  14371  2021-04-30                        -   351162    2480     454464\n",
              "...      ...         ...                      ...      ...     ...        ...\n",
              "15513  15514  2021-05-31                        -   537522    3263     575827\n",
              "15514  15515  2021-05-31                        -    44063     513      51133\n",
              "15515  15516  2021-05-31                        -   291580    6401     328338\n",
              "15516  15517  2021-05-31                        -  1628456   20346    1690016\n",
              "15517  15518  2021-05-31                        -  1255932   15410    1366240\n",
              "\n",
              "[1152 rows x 6 columns]"
            ]
          },
          "metadata": {},
          "execution_count": 5
        }
      ]
    },
    {
      "cell_type": "code",
      "metadata": {
        "id": "HcJCweQn_7Xg"
      },
      "source": [
        "del df_May['ConfirmedForeignNational']"
      ],
      "execution_count": 6,
      "outputs": []
    },
    {
      "cell_type": "code",
      "metadata": {
        "colab": {
          "base_uri": "https://localhost:8080/",
          "height": 0
        },
        "id": "-jRyywzbAOQb",
        "outputId": "50833b09-f5b4-430d-93ce-4d504dbfe509"
      },
      "source": [
        "df_May"
      ],
      "execution_count": 7,
      "outputs": [
        {
          "output_type": "execute_result",
          "data": {
            "text/html": [
              "<div>\n",
              "<style scoped>\n",
              "    .dataframe tbody tr th:only-of-type {\n",
              "        vertical-align: middle;\n",
              "    }\n",
              "\n",
              "    .dataframe tbody tr th {\n",
              "        vertical-align: top;\n",
              "    }\n",
              "\n",
              "    .dataframe thead th {\n",
              "        text-align: right;\n",
              "    }\n",
              "</style>\n",
              "<table border=\"1\" class=\"dataframe\">\n",
              "  <thead>\n",
              "    <tr style=\"text-align: right;\">\n",
              "      <th></th>\n",
              "      <th>Sno</th>\n",
              "      <th>Date</th>\n",
              "      <th>Cured</th>\n",
              "      <th>Deaths</th>\n",
              "      <th>Confirmed</th>\n",
              "    </tr>\n",
              "  </thead>\n",
              "  <tbody>\n",
              "    <tr>\n",
              "      <th>14366</th>\n",
              "      <td>14367</td>\n",
              "      <td>2021-04-30</td>\n",
              "      <td>5643</td>\n",
              "      <td>67</td>\n",
              "      <td>5875</td>\n",
              "    </tr>\n",
              "    <tr>\n",
              "      <th>14367</th>\n",
              "      <td>14368</td>\n",
              "      <td>2021-04-30</td>\n",
              "      <td>962250</td>\n",
              "      <td>7928</td>\n",
              "      <td>1084336</td>\n",
              "    </tr>\n",
              "    <tr>\n",
              "      <th>14368</th>\n",
              "      <td>14369</td>\n",
              "      <td>2021-04-30</td>\n",
              "      <td>17085</td>\n",
              "      <td>59</td>\n",
              "      <td>18256</td>\n",
              "    </tr>\n",
              "    <tr>\n",
              "      <th>14369</th>\n",
              "      <td>14370</td>\n",
              "      <td>2021-04-30</td>\n",
              "      <td>224194</td>\n",
              "      <td>1281</td>\n",
              "      <td>249926</td>\n",
              "    </tr>\n",
              "    <tr>\n",
              "      <th>14370</th>\n",
              "      <td>14371</td>\n",
              "      <td>2021-04-30</td>\n",
              "      <td>351162</td>\n",
              "      <td>2480</td>\n",
              "      <td>454464</td>\n",
              "    </tr>\n",
              "    <tr>\n",
              "      <th>...</th>\n",
              "      <td>...</td>\n",
              "      <td>...</td>\n",
              "      <td>...</td>\n",
              "      <td>...</td>\n",
              "      <td>...</td>\n",
              "    </tr>\n",
              "    <tr>\n",
              "      <th>15513</th>\n",
              "      <td>15514</td>\n",
              "      <td>2021-05-31</td>\n",
              "      <td>537522</td>\n",
              "      <td>3263</td>\n",
              "      <td>575827</td>\n",
              "    </tr>\n",
              "    <tr>\n",
              "      <th>15514</th>\n",
              "      <td>15515</td>\n",
              "      <td>2021-05-31</td>\n",
              "      <td>44063</td>\n",
              "      <td>513</td>\n",
              "      <td>51133</td>\n",
              "    </tr>\n",
              "    <tr>\n",
              "      <th>15515</th>\n",
              "      <td>15516</td>\n",
              "      <td>2021-05-31</td>\n",
              "      <td>291580</td>\n",
              "      <td>6401</td>\n",
              "      <td>328338</td>\n",
              "    </tr>\n",
              "    <tr>\n",
              "      <th>15516</th>\n",
              "      <td>15517</td>\n",
              "      <td>2021-05-31</td>\n",
              "      <td>1628456</td>\n",
              "      <td>20346</td>\n",
              "      <td>1690016</td>\n",
              "    </tr>\n",
              "    <tr>\n",
              "      <th>15517</th>\n",
              "      <td>15518</td>\n",
              "      <td>2021-05-31</td>\n",
              "      <td>1255932</td>\n",
              "      <td>15410</td>\n",
              "      <td>1366240</td>\n",
              "    </tr>\n",
              "  </tbody>\n",
              "</table>\n",
              "<p>1152 rows × 5 columns</p>\n",
              "</div>"
            ],
            "text/plain": [
              "         Sno        Date    Cured  Deaths  Confirmed\n",
              "14366  14367  2021-04-30     5643      67       5875\n",
              "14367  14368  2021-04-30   962250    7928    1084336\n",
              "14368  14369  2021-04-30    17085      59      18256\n",
              "14369  14370  2021-04-30   224194    1281     249926\n",
              "14370  14371  2021-04-30   351162    2480     454464\n",
              "...      ...         ...      ...     ...        ...\n",
              "15513  15514  2021-05-31   537522    3263     575827\n",
              "15514  15515  2021-05-31    44063     513      51133\n",
              "15515  15516  2021-05-31   291580    6401     328338\n",
              "15516  15517  2021-05-31  1628456   20346    1690016\n",
              "15517  15518  2021-05-31  1255932   15410    1366240\n",
              "\n",
              "[1152 rows x 5 columns]"
            ]
          },
          "metadata": {},
          "execution_count": 7
        }
      ]
    },
    {
      "cell_type": "markdown",
      "metadata": {
        "id": "fZhjM262EGDa"
      },
      "source": [
        "# Adding up the data of same day of different states to get data for whole Country.\n",
        "\n",
        "The new index is added to use it as a key rather than date to make passing down data easy."
      ]
    },
    {
      "cell_type": "code",
      "metadata": {
        "colab": {
          "base_uri": "https://localhost:8080/",
          "height": 0
        },
        "id": "ae8Y3IblBmuC",
        "outputId": "26232148-da5f-4e23-95a4-a4d89f6f6ee9"
      },
      "source": [
        "aggregation_functions = {'Deaths': 'sum', 'Cured': 'sum','Confirmed': 'sum'}\n",
        "df_added = df_May.groupby(df_May['Date']).aggregate(aggregation_functions).reset_index()\n",
        "df_added"
      ],
      "execution_count": 8,
      "outputs": [
        {
          "output_type": "execute_result",
          "data": {
            "text/html": [
              "<div>\n",
              "<style scoped>\n",
              "    .dataframe tbody tr th:only-of-type {\n",
              "        vertical-align: middle;\n",
              "    }\n",
              "\n",
              "    .dataframe tbody tr th {\n",
              "        vertical-align: top;\n",
              "    }\n",
              "\n",
              "    .dataframe thead th {\n",
              "        text-align: right;\n",
              "    }\n",
              "</style>\n",
              "<table border=\"1\" class=\"dataframe\">\n",
              "  <thead>\n",
              "    <tr style=\"text-align: right;\">\n",
              "      <th></th>\n",
              "      <th>Date</th>\n",
              "      <th>Deaths</th>\n",
              "      <th>Cured</th>\n",
              "      <th>Confirmed</th>\n",
              "    </tr>\n",
              "  </thead>\n",
              "  <tbody>\n",
              "    <tr>\n",
              "      <th>0</th>\n",
              "      <td>2021-04-30</td>\n",
              "      <td>208330</td>\n",
              "      <td>15384418</td>\n",
              "      <td>18762976</td>\n",
              "    </tr>\n",
              "    <tr>\n",
              "      <th>1</th>\n",
              "      <td>2021-05-01</td>\n",
              "      <td>211853</td>\n",
              "      <td>15684406</td>\n",
              "      <td>19164969</td>\n",
              "    </tr>\n",
              "    <tr>\n",
              "      <th>2</th>\n",
              "      <td>2021-05-02</td>\n",
              "      <td>215542</td>\n",
              "      <td>15992271</td>\n",
              "      <td>19557457</td>\n",
              "    </tr>\n",
              "    <tr>\n",
              "      <th>3</th>\n",
              "      <td>2021-05-03</td>\n",
              "      <td>218959</td>\n",
              "      <td>16293003</td>\n",
              "      <td>19925604</td>\n",
              "    </tr>\n",
              "    <tr>\n",
              "      <th>4</th>\n",
              "      <td>2021-05-04</td>\n",
              "      <td>222408</td>\n",
              "      <td>16613292</td>\n",
              "      <td>20282833</td>\n",
              "    </tr>\n",
              "    <tr>\n",
              "      <th>5</th>\n",
              "      <td>2021-05-05</td>\n",
              "      <td>226188</td>\n",
              "      <td>16951731</td>\n",
              "      <td>20665148</td>\n",
              "    </tr>\n",
              "    <tr>\n",
              "      <th>6</th>\n",
              "      <td>2021-05-06</td>\n",
              "      <td>230168</td>\n",
              "      <td>17280844</td>\n",
              "      <td>21077410</td>\n",
              "    </tr>\n",
              "    <tr>\n",
              "      <th>7</th>\n",
              "      <td>2021-05-07</td>\n",
              "      <td>234083</td>\n",
              "      <td>17612351</td>\n",
              "      <td>21491598</td>\n",
              "    </tr>\n",
              "    <tr>\n",
              "      <th>8</th>\n",
              "      <td>2021-05-08</td>\n",
              "      <td>238270</td>\n",
              "      <td>17930960</td>\n",
              "      <td>21892676</td>\n",
              "    </tr>\n",
              "    <tr>\n",
              "      <th>9</th>\n",
              "      <td>2021-05-09</td>\n",
              "      <td>242362</td>\n",
              "      <td>18317404</td>\n",
              "      <td>22296414</td>\n",
              "    </tr>\n",
              "    <tr>\n",
              "      <th>10</th>\n",
              "      <td>2021-05-10</td>\n",
              "      <td>246116</td>\n",
              "      <td>18671222</td>\n",
              "      <td>22662575</td>\n",
              "    </tr>\n",
              "    <tr>\n",
              "      <th>11</th>\n",
              "      <td>2021-05-11</td>\n",
              "      <td>249992</td>\n",
              "      <td>19027304</td>\n",
              "      <td>22992517</td>\n",
              "    </tr>\n",
              "    <tr>\n",
              "      <th>12</th>\n",
              "      <td>2021-05-12</td>\n",
              "      <td>254197</td>\n",
              "      <td>19382642</td>\n",
              "      <td>23340938</td>\n",
              "    </tr>\n",
              "    <tr>\n",
              "      <th>13</th>\n",
              "      <td>2021-05-13</td>\n",
              "      <td>258317</td>\n",
              "      <td>19734823</td>\n",
              "      <td>23703665</td>\n",
              "    </tr>\n",
              "    <tr>\n",
              "      <th>14</th>\n",
              "      <td>2021-05-14</td>\n",
              "      <td>262317</td>\n",
              "      <td>20079599</td>\n",
              "      <td>24046809</td>\n",
              "    </tr>\n",
              "    <tr>\n",
              "      <th>15</th>\n",
              "      <td>2021-05-15</td>\n",
              "      <td>266207</td>\n",
              "      <td>20432898</td>\n",
              "      <td>24372907</td>\n",
              "    </tr>\n",
              "    <tr>\n",
              "      <th>16</th>\n",
              "      <td>2021-05-16</td>\n",
              "      <td>270284</td>\n",
              "      <td>20795335</td>\n",
              "      <td>24684077</td>\n",
              "    </tr>\n",
              "    <tr>\n",
              "      <th>17</th>\n",
              "      <td>2021-05-17</td>\n",
              "      <td>274390</td>\n",
              "      <td>21174076</td>\n",
              "      <td>24965463</td>\n",
              "    </tr>\n",
              "    <tr>\n",
              "      <th>18</th>\n",
              "      <td>2021-05-18</td>\n",
              "      <td>278719</td>\n",
              "      <td>21596512</td>\n",
              "      <td>25228996</td>\n",
              "    </tr>\n",
              "    <tr>\n",
              "      <th>19</th>\n",
              "      <td>2021-05-19</td>\n",
              "      <td>283248</td>\n",
              "      <td>21986363</td>\n",
              "      <td>25496330</td>\n",
              "    </tr>\n",
              "    <tr>\n",
              "      <th>20</th>\n",
              "      <td>2021-05-20</td>\n",
              "      <td>287122</td>\n",
              "      <td>22355440</td>\n",
              "      <td>25772440</td>\n",
              "    </tr>\n",
              "    <tr>\n",
              "      <th>21</th>\n",
              "      <td>2021-05-21</td>\n",
              "      <td>291331</td>\n",
              "      <td>22712735</td>\n",
              "      <td>26031991</td>\n",
              "    </tr>\n",
              "    <tr>\n",
              "      <th>22</th>\n",
              "      <td>2021-05-22</td>\n",
              "      <td>295525</td>\n",
              "      <td>23070365</td>\n",
              "      <td>26289290</td>\n",
              "    </tr>\n",
              "    <tr>\n",
              "      <th>23</th>\n",
              "      <td>2021-05-23</td>\n",
              "      <td>299266</td>\n",
              "      <td>23425467</td>\n",
              "      <td>26530132</td>\n",
              "    </tr>\n",
              "    <tr>\n",
              "      <th>24</th>\n",
              "      <td>2021-05-24</td>\n",
              "      <td>303720</td>\n",
              "      <td>23728011</td>\n",
              "      <td>26752447</td>\n",
              "    </tr>\n",
              "    <tr>\n",
              "      <th>25</th>\n",
              "      <td>2021-05-25</td>\n",
              "      <td>307231</td>\n",
              "      <td>24054861</td>\n",
              "      <td>26948874</td>\n",
              "    </tr>\n",
              "    <tr>\n",
              "      <th>26</th>\n",
              "      <td>2021-05-26</td>\n",
              "      <td>311388</td>\n",
              "      <td>24350816</td>\n",
              "      <td>27157795</td>\n",
              "    </tr>\n",
              "    <tr>\n",
              "      <th>27</th>\n",
              "      <td>2021-05-27</td>\n",
              "      <td>315235</td>\n",
              "      <td>24633951</td>\n",
              "      <td>27369093</td>\n",
              "    </tr>\n",
              "    <tr>\n",
              "      <th>28</th>\n",
              "      <td>2021-05-28</td>\n",
              "      <td>318895</td>\n",
              "      <td>24893410</td>\n",
              "      <td>27555457</td>\n",
              "    </tr>\n",
              "    <tr>\n",
              "      <th>29</th>\n",
              "      <td>2021-05-29</td>\n",
              "      <td>322512</td>\n",
              "      <td>25178011</td>\n",
              "      <td>27729247</td>\n",
              "    </tr>\n",
              "    <tr>\n",
              "      <th>30</th>\n",
              "      <td>2021-05-30</td>\n",
              "      <td>325972</td>\n",
              "      <td>25454320</td>\n",
              "      <td>27894800</td>\n",
              "    </tr>\n",
              "    <tr>\n",
              "      <th>31</th>\n",
              "      <td>2021-05-31</td>\n",
              "      <td>329100</td>\n",
              "      <td>25692342</td>\n",
              "      <td>28047534</td>\n",
              "    </tr>\n",
              "  </tbody>\n",
              "</table>\n",
              "</div>"
            ],
            "text/plain": [
              "          Date  Deaths     Cured  Confirmed\n",
              "0   2021-04-30  208330  15384418   18762976\n",
              "1   2021-05-01  211853  15684406   19164969\n",
              "2   2021-05-02  215542  15992271   19557457\n",
              "3   2021-05-03  218959  16293003   19925604\n",
              "4   2021-05-04  222408  16613292   20282833\n",
              "5   2021-05-05  226188  16951731   20665148\n",
              "6   2021-05-06  230168  17280844   21077410\n",
              "7   2021-05-07  234083  17612351   21491598\n",
              "8   2021-05-08  238270  17930960   21892676\n",
              "9   2021-05-09  242362  18317404   22296414\n",
              "10  2021-05-10  246116  18671222   22662575\n",
              "11  2021-05-11  249992  19027304   22992517\n",
              "12  2021-05-12  254197  19382642   23340938\n",
              "13  2021-05-13  258317  19734823   23703665\n",
              "14  2021-05-14  262317  20079599   24046809\n",
              "15  2021-05-15  266207  20432898   24372907\n",
              "16  2021-05-16  270284  20795335   24684077\n",
              "17  2021-05-17  274390  21174076   24965463\n",
              "18  2021-05-18  278719  21596512   25228996\n",
              "19  2021-05-19  283248  21986363   25496330\n",
              "20  2021-05-20  287122  22355440   25772440\n",
              "21  2021-05-21  291331  22712735   26031991\n",
              "22  2021-05-22  295525  23070365   26289290\n",
              "23  2021-05-23  299266  23425467   26530132\n",
              "24  2021-05-24  303720  23728011   26752447\n",
              "25  2021-05-25  307231  24054861   26948874\n",
              "26  2021-05-26  311388  24350816   27157795\n",
              "27  2021-05-27  315235  24633951   27369093\n",
              "28  2021-05-28  318895  24893410   27555457\n",
              "29  2021-05-29  322512  25178011   27729247\n",
              "30  2021-05-30  325972  25454320   27894800\n",
              "31  2021-05-31  329100  25692342   28047534"
            ]
          },
          "metadata": {},
          "execution_count": 8
        }
      ]
    },
    {
      "cell_type": "code",
      "metadata": {
        "colab": {
          "base_uri": "https://localhost:8080/",
          "height": 0
        },
        "id": "Fi7gPdLsXalQ",
        "outputId": "0382db04-b0e0-425c-b130-8c8ea4f427f0"
      },
      "source": [
        "df_added['Deaths'] = df_added['Deaths'].diff()\n",
        "df_added['Cured'] = df_added['Cured'].diff()\n",
        "df_added['Confirmed'] = df_added['Confirmed'].diff()\n",
        "\n",
        "df_added = df_added[df_added['Date'] >= '2021-05-01']\n",
        "\n",
        "df_added"
      ],
      "execution_count": 9,
      "outputs": [
        {
          "output_type": "execute_result",
          "data": {
            "text/html": [
              "<div>\n",
              "<style scoped>\n",
              "    .dataframe tbody tr th:only-of-type {\n",
              "        vertical-align: middle;\n",
              "    }\n",
              "\n",
              "    .dataframe tbody tr th {\n",
              "        vertical-align: top;\n",
              "    }\n",
              "\n",
              "    .dataframe thead th {\n",
              "        text-align: right;\n",
              "    }\n",
              "</style>\n",
              "<table border=\"1\" class=\"dataframe\">\n",
              "  <thead>\n",
              "    <tr style=\"text-align: right;\">\n",
              "      <th></th>\n",
              "      <th>Date</th>\n",
              "      <th>Deaths</th>\n",
              "      <th>Cured</th>\n",
              "      <th>Confirmed</th>\n",
              "    </tr>\n",
              "  </thead>\n",
              "  <tbody>\n",
              "    <tr>\n",
              "      <th>1</th>\n",
              "      <td>2021-05-01</td>\n",
              "      <td>3523.0</td>\n",
              "      <td>299988.0</td>\n",
              "      <td>401993.0</td>\n",
              "    </tr>\n",
              "    <tr>\n",
              "      <th>2</th>\n",
              "      <td>2021-05-02</td>\n",
              "      <td>3689.0</td>\n",
              "      <td>307865.0</td>\n",
              "      <td>392488.0</td>\n",
              "    </tr>\n",
              "    <tr>\n",
              "      <th>3</th>\n",
              "      <td>2021-05-03</td>\n",
              "      <td>3417.0</td>\n",
              "      <td>300732.0</td>\n",
              "      <td>368147.0</td>\n",
              "    </tr>\n",
              "    <tr>\n",
              "      <th>4</th>\n",
              "      <td>2021-05-04</td>\n",
              "      <td>3449.0</td>\n",
              "      <td>320289.0</td>\n",
              "      <td>357229.0</td>\n",
              "    </tr>\n",
              "    <tr>\n",
              "      <th>5</th>\n",
              "      <td>2021-05-05</td>\n",
              "      <td>3780.0</td>\n",
              "      <td>338439.0</td>\n",
              "      <td>382315.0</td>\n",
              "    </tr>\n",
              "    <tr>\n",
              "      <th>6</th>\n",
              "      <td>2021-05-06</td>\n",
              "      <td>3980.0</td>\n",
              "      <td>329113.0</td>\n",
              "      <td>412262.0</td>\n",
              "    </tr>\n",
              "    <tr>\n",
              "      <th>7</th>\n",
              "      <td>2021-05-07</td>\n",
              "      <td>3915.0</td>\n",
              "      <td>331507.0</td>\n",
              "      <td>414188.0</td>\n",
              "    </tr>\n",
              "    <tr>\n",
              "      <th>8</th>\n",
              "      <td>2021-05-08</td>\n",
              "      <td>4187.0</td>\n",
              "      <td>318609.0</td>\n",
              "      <td>401078.0</td>\n",
              "    </tr>\n",
              "    <tr>\n",
              "      <th>9</th>\n",
              "      <td>2021-05-09</td>\n",
              "      <td>4092.0</td>\n",
              "      <td>386444.0</td>\n",
              "      <td>403738.0</td>\n",
              "    </tr>\n",
              "    <tr>\n",
              "      <th>10</th>\n",
              "      <td>2021-05-10</td>\n",
              "      <td>3754.0</td>\n",
              "      <td>353818.0</td>\n",
              "      <td>366161.0</td>\n",
              "    </tr>\n",
              "    <tr>\n",
              "      <th>11</th>\n",
              "      <td>2021-05-11</td>\n",
              "      <td>3876.0</td>\n",
              "      <td>356082.0</td>\n",
              "      <td>329942.0</td>\n",
              "    </tr>\n",
              "    <tr>\n",
              "      <th>12</th>\n",
              "      <td>2021-05-12</td>\n",
              "      <td>4205.0</td>\n",
              "      <td>355338.0</td>\n",
              "      <td>348421.0</td>\n",
              "    </tr>\n",
              "    <tr>\n",
              "      <th>13</th>\n",
              "      <td>2021-05-13</td>\n",
              "      <td>4120.0</td>\n",
              "      <td>352181.0</td>\n",
              "      <td>362727.0</td>\n",
              "    </tr>\n",
              "    <tr>\n",
              "      <th>14</th>\n",
              "      <td>2021-05-14</td>\n",
              "      <td>4000.0</td>\n",
              "      <td>344776.0</td>\n",
              "      <td>343144.0</td>\n",
              "    </tr>\n",
              "    <tr>\n",
              "      <th>15</th>\n",
              "      <td>2021-05-15</td>\n",
              "      <td>3890.0</td>\n",
              "      <td>353299.0</td>\n",
              "      <td>326098.0</td>\n",
              "    </tr>\n",
              "    <tr>\n",
              "      <th>16</th>\n",
              "      <td>2021-05-16</td>\n",
              "      <td>4077.0</td>\n",
              "      <td>362437.0</td>\n",
              "      <td>311170.0</td>\n",
              "    </tr>\n",
              "    <tr>\n",
              "      <th>17</th>\n",
              "      <td>2021-05-17</td>\n",
              "      <td>4106.0</td>\n",
              "      <td>378741.0</td>\n",
              "      <td>281386.0</td>\n",
              "    </tr>\n",
              "    <tr>\n",
              "      <th>18</th>\n",
              "      <td>2021-05-18</td>\n",
              "      <td>4329.0</td>\n",
              "      <td>422436.0</td>\n",
              "      <td>263533.0</td>\n",
              "    </tr>\n",
              "    <tr>\n",
              "      <th>19</th>\n",
              "      <td>2021-05-19</td>\n",
              "      <td>4529.0</td>\n",
              "      <td>389851.0</td>\n",
              "      <td>267334.0</td>\n",
              "    </tr>\n",
              "    <tr>\n",
              "      <th>20</th>\n",
              "      <td>2021-05-20</td>\n",
              "      <td>3874.0</td>\n",
              "      <td>369077.0</td>\n",
              "      <td>276110.0</td>\n",
              "    </tr>\n",
              "    <tr>\n",
              "      <th>21</th>\n",
              "      <td>2021-05-21</td>\n",
              "      <td>4209.0</td>\n",
              "      <td>357295.0</td>\n",
              "      <td>259551.0</td>\n",
              "    </tr>\n",
              "    <tr>\n",
              "      <th>22</th>\n",
              "      <td>2021-05-22</td>\n",
              "      <td>4194.0</td>\n",
              "      <td>357630.0</td>\n",
              "      <td>257299.0</td>\n",
              "    </tr>\n",
              "    <tr>\n",
              "      <th>23</th>\n",
              "      <td>2021-05-23</td>\n",
              "      <td>3741.0</td>\n",
              "      <td>355102.0</td>\n",
              "      <td>240842.0</td>\n",
              "    </tr>\n",
              "    <tr>\n",
              "      <th>24</th>\n",
              "      <td>2021-05-24</td>\n",
              "      <td>4454.0</td>\n",
              "      <td>302544.0</td>\n",
              "      <td>222315.0</td>\n",
              "    </tr>\n",
              "    <tr>\n",
              "      <th>25</th>\n",
              "      <td>2021-05-25</td>\n",
              "      <td>3511.0</td>\n",
              "      <td>326850.0</td>\n",
              "      <td>196427.0</td>\n",
              "    </tr>\n",
              "    <tr>\n",
              "      <th>26</th>\n",
              "      <td>2021-05-26</td>\n",
              "      <td>4157.0</td>\n",
              "      <td>295955.0</td>\n",
              "      <td>208921.0</td>\n",
              "    </tr>\n",
              "    <tr>\n",
              "      <th>27</th>\n",
              "      <td>2021-05-27</td>\n",
              "      <td>3847.0</td>\n",
              "      <td>283135.0</td>\n",
              "      <td>211298.0</td>\n",
              "    </tr>\n",
              "    <tr>\n",
              "      <th>28</th>\n",
              "      <td>2021-05-28</td>\n",
              "      <td>3660.0</td>\n",
              "      <td>259459.0</td>\n",
              "      <td>186364.0</td>\n",
              "    </tr>\n",
              "    <tr>\n",
              "      <th>29</th>\n",
              "      <td>2021-05-29</td>\n",
              "      <td>3617.0</td>\n",
              "      <td>284601.0</td>\n",
              "      <td>173790.0</td>\n",
              "    </tr>\n",
              "    <tr>\n",
              "      <th>30</th>\n",
              "      <td>2021-05-30</td>\n",
              "      <td>3460.0</td>\n",
              "      <td>276309.0</td>\n",
              "      <td>165553.0</td>\n",
              "    </tr>\n",
              "    <tr>\n",
              "      <th>31</th>\n",
              "      <td>2021-05-31</td>\n",
              "      <td>3128.0</td>\n",
              "      <td>238022.0</td>\n",
              "      <td>152734.0</td>\n",
              "    </tr>\n",
              "  </tbody>\n",
              "</table>\n",
              "</div>"
            ],
            "text/plain": [
              "          Date  Deaths     Cured  Confirmed\n",
              "1   2021-05-01  3523.0  299988.0   401993.0\n",
              "2   2021-05-02  3689.0  307865.0   392488.0\n",
              "3   2021-05-03  3417.0  300732.0   368147.0\n",
              "4   2021-05-04  3449.0  320289.0   357229.0\n",
              "5   2021-05-05  3780.0  338439.0   382315.0\n",
              "6   2021-05-06  3980.0  329113.0   412262.0\n",
              "7   2021-05-07  3915.0  331507.0   414188.0\n",
              "8   2021-05-08  4187.0  318609.0   401078.0\n",
              "9   2021-05-09  4092.0  386444.0   403738.0\n",
              "10  2021-05-10  3754.0  353818.0   366161.0\n",
              "11  2021-05-11  3876.0  356082.0   329942.0\n",
              "12  2021-05-12  4205.0  355338.0   348421.0\n",
              "13  2021-05-13  4120.0  352181.0   362727.0\n",
              "14  2021-05-14  4000.0  344776.0   343144.0\n",
              "15  2021-05-15  3890.0  353299.0   326098.0\n",
              "16  2021-05-16  4077.0  362437.0   311170.0\n",
              "17  2021-05-17  4106.0  378741.0   281386.0\n",
              "18  2021-05-18  4329.0  422436.0   263533.0\n",
              "19  2021-05-19  4529.0  389851.0   267334.0\n",
              "20  2021-05-20  3874.0  369077.0   276110.0\n",
              "21  2021-05-21  4209.0  357295.0   259551.0\n",
              "22  2021-05-22  4194.0  357630.0   257299.0\n",
              "23  2021-05-23  3741.0  355102.0   240842.0\n",
              "24  2021-05-24  4454.0  302544.0   222315.0\n",
              "25  2021-05-25  3511.0  326850.0   196427.0\n",
              "26  2021-05-26  4157.0  295955.0   208921.0\n",
              "27  2021-05-27  3847.0  283135.0   211298.0\n",
              "28  2021-05-28  3660.0  259459.0   186364.0\n",
              "29  2021-05-29  3617.0  284601.0   173790.0\n",
              "30  2021-05-30  3460.0  276309.0   165553.0\n",
              "31  2021-05-31  3128.0  238022.0   152734.0"
            ]
          },
          "metadata": {},
          "execution_count": 9
        }
      ]
    },
    {
      "cell_type": "markdown",
      "metadata": {
        "id": "6zGW1l--EaSH"
      },
      "source": [
        "# Plotting the Filtered Data"
      ]
    },
    {
      "cell_type": "code",
      "metadata": {
        "colab": {
          "base_uri": "https://localhost:8080/",
          "height": 0
        },
        "id": "W2qLexoPCk_L",
        "outputId": "d7199761-70d3-4728-92bc-49fa1048ebfc"
      },
      "source": [
        "date_formatted= pd.to_datetime(df_added['Date']).dt.strftime('%m/%d')\n",
        "plt.figure(figsize=(30, 7))\n",
        "\n",
        "plt.plot(date_formatted, df_added['Confirmed'],color='b')\n",
        "plt.plot(date_formatted, df_added['Deaths'] ,color='r')\n",
        "plt.plot(date_formatted, df_added['Cured'],color='g')\n",
        "\n",
        "plt.xlabel('Dates', size=20)\n",
        "plt.ylabel('No. of Cases', size=20)\n",
        "plt.xticks(size=15)\n",
        "plt.yticks(size=15)\n",
        "plt.show()"
      ],
      "execution_count": 10,
      "outputs": [
        {
          "output_type": "display_data",
          "data": {
            "image/png": "[encoded data removed]",
            "text/plain": [
              "<Figure size 2160x504 with 1 Axes>"
            ]
          },
          "metadata": {
            "needs_background": "light"
          }
        }
      ]
    },
    {
      "cell_type": "markdown",
      "metadata": {
        "id": "5EeFYfMfe2Zd"
      },
      "source": [
        "# Seprating Data."
      ]
    },
    {
      "cell_type": "markdown",
      "metadata": {
        "id": "lF7Op2PQJ_P7"
      },
      "source": [
        "### Convert Date to integers to evaluate the prediction model."
      ]
    },
    {
      "cell_type": "code",
      "metadata": {
        "colab": {
          "base_uri": "https://localhost:8080/"
        },
        "id": "vS5eCKRzE85N",
        "outputId": "8c225267-a1a8-4539-e6a4-cd40d1a267e5"
      },
      "source": [
        "X=pd.to_datetime(df_added['Date']).dt.strftime('%d').to_list()\n",
        "for i in range(0, len(X)):\n",
        "    X[i] = int(X[i])\n",
        "\n",
        "X"
      ],
      "execution_count": 11,
      "outputs": [
        {
          "output_type": "execute_result",
          "data": {
            "text/plain": [
              "[1,\n",
              " 2,\n",
              " 3,\n",
              " 4,\n",
              " 5,\n",
              " 6,\n",
              " 7,\n",
              " 8,\n",
              " 9,\n",
              " 10,\n",
              " 11,\n",
              " 12,\n",
              " 13,\n",
              " 14,\n",
              " 15,\n",
              " 16,\n",
              " 17,\n",
              " 18,\n",
              " 19,\n",
              " 20,\n",
              " 21,\n",
              " 22,\n",
              " 23,\n",
              " 24,\n",
              " 25,\n",
              " 26,\n",
              " 27,\n",
              " 28,\n",
              " 29,\n",
              " 30,\n",
              " 31]"
            ]
          },
          "metadata": {},
          "execution_count": 11
        }
      ]
    },
    {
      "cell_type": "markdown",
      "metadata": {
        "id": "P5NZZQBXcwuM"
      },
      "source": [
        "### Creating list for deaths"
      ]
    },
    {
      "cell_type": "code",
      "metadata": {
        "colab": {
          "base_uri": "https://localhost:8080/"
        },
        "id": "tl6kkycZMXH6",
        "outputId": "147e2c32-5fa6-4907-ebef-95d59b28a4f3"
      },
      "source": [
        "Y=df_added['Deaths'].to_list()\n",
        "\n",
        "Y"
      ],
      "execution_count": 12,
      "outputs": [
        {
          "output_type": "execute_result",
          "data": {
            "text/plain": [
              "[3523.0,\n",
              " 3689.0,\n",
              " 3417.0,\n",
              " 3449.0,\n",
              " 3780.0,\n",
              " 3980.0,\n",
              " 3915.0,\n",
              " 4187.0,\n",
              " 4092.0,\n",
              " 3754.0,\n",
              " 3876.0,\n",
              " 4205.0,\n",
              " 4120.0,\n",
              " 4000.0,\n",
              " 3890.0,\n",
              " 4077.0,\n",
              " 4106.0,\n",
              " 4329.0,\n",
              " 4529.0,\n",
              " 3874.0,\n",
              " 4209.0,\n",
              " 4194.0,\n",
              " 3741.0,\n",
              " 4454.0,\n",
              " 3511.0,\n",
              " 4157.0,\n",
              " 3847.0,\n",
              " 3660.0,\n",
              " 3617.0,\n",
              " 3460.0,\n",
              " 3128.0]"
            ]
          },
          "metadata": {},
          "execution_count": 12
        }
      ]
    },
    {
      "cell_type": "markdown",
      "metadata": {
        "id": "O7M-1t04e9nT"
      },
      "source": [
        "# Linear Regression Model(Assuming Linear Dependency)\n",
        "Let the hypothese be Y = w0 + w1X where Y is the number of deaths and X is the day."
      ]
    },
    {
      "cell_type": "markdown",
      "metadata": {
        "id": "FAvEVg7xc012"
      },
      "source": [
        "### Counting Variables for the calculation."
      ]
    },
    {
      "cell_type": "code",
      "metadata": {
        "colab": {
          "base_uri": "https://localhost:8080/"
        },
        "id": "h5vNtHcgMiDO",
        "outputId": "8ad64af0-fe56-4b98-c089-10e6ec309241"
      },
      "source": [
        "A = 0\n",
        "B = 0\n",
        "C = 0\n",
        "D = 0\n",
        "m=22\n",
        "for i in range(0, m):\n",
        "\tA += X[i]\n",
        "\tB += Y[i]\n",
        "\tC += X[i] * X[i]\n",
        "\tD += Y[i] * (X[i])\n",
        " \n",
        "print(A,B,C,D)"
      ],
      "execution_count": 13,
      "outputs": [
        {
          "output_type": "stream",
          "text": [
            "253 87195.0 3795 1031147.0\n"
          ],
          "name": "stdout"
        }
      ]
    },
    {
      "cell_type": "markdown",
      "metadata": {
        "id": "_CYfU-fhc-5v"
      },
      "source": [
        "### Calculating Value of weights."
      ]
    },
    {
      "cell_type": "code",
      "metadata": {
        "colab": {
          "base_uri": "https://localhost:8080/"
        },
        "id": "N4Bh4oADNDdv",
        "outputId": "cca9f383-8c5e-4cef-bb88-60d7f55cfa85"
      },
      "source": [
        "w0 = (B * C - A * D) / (m * C - A * A)\n",
        "w1 = (A * B - m * D) / (A * A - m * C)\n",
        "\n",
        "print(w0,w1)"
      ],
      "execution_count": 14,
      "outputs": [
        {
          "output_type": "stream",
          "text": [
            "3594.5194805194806 32.077357425183514\n"
          ],
          "name": "stdout"
        }
      ]
    },
    {
      "cell_type": "code",
      "metadata": {
        "colab": {
          "base_uri": "https://localhost:8080/"
        },
        "id": "HyOWGOVROK7G",
        "outputId": "0aa27380-a6a7-443a-f9ab-636dd100deda"
      },
      "source": [
        "for i in range(0, m):\n",
        "    print(w0 + w1 * X[i],Y[i])"
      ],
      "execution_count": 15,
      "outputs": [
        {
          "output_type": "stream",
          "text": [
            "3626.596837944664 3523.0\n",
            "3658.6741953698474 3689.0\n",
            "3690.751552795031 3417.0\n",
            "3722.8289102202148 3449.0\n",
            "3754.906267645398 3780.0\n",
            "3786.9836250705816 3980.0\n",
            "3819.060982495765 3915.0\n",
            "3851.1383399209485 4187.0\n",
            "3883.2156973461324 4092.0\n",
            "3915.293054771316 3754.0\n",
            "3947.3704121964993 3876.0\n",
            "3979.4477696216827 4205.0\n",
            "4011.525127046866 4120.0\n",
            "4043.6024844720496 4000.0\n",
            "4075.6798418972335 3890.0\n",
            "4107.757199322416 4077.0\n",
            "4139.834556747601 4106.0\n",
            "4171.911914172784 4329.0\n",
            "4203.989271597968 4529.0\n",
            "4236.066629023151 3874.0\n",
            "4268.1439864483345 4209.0\n",
            "4300.221343873518 4194.0\n"
          ],
          "name": "stdout"
        }
      ]
    },
    {
      "cell_type": "markdown",
      "metadata": {
        "id": "bhaA9Fncdu8x"
      },
      "source": [
        "### Calculating error in the last 9 days from the data set."
      ]
    },
    {
      "cell_type": "code",
      "metadata": {
        "colab": {
          "base_uri": "https://localhost:8080/"
        },
        "id": "EVheO7nINPQM",
        "outputId": "61300658-747c-42eb-bbf8-11c91714bca6"
      },
      "source": [
        "sumOfDistance = 0\n",
        "for i in range(m, len(Y)):\n",
        "    print((w0 + w1 * X[i] - Y[i])**2)\n",
        "    sumOfDistance += (w0 + w1 * X[i] - Y[i])**2\n",
        "linear_error=sumOfDistance/(2*(len(Y)-m))\n",
        "print(\"Squared error in linear fitting : \",linear_error)"
      ],
      "execution_count": 16,
      "outputs": [
        {
          "output_type": "stream",
          "text": [
            "349634.1541575309\n",
            "8032.450849864536\n",
            "784027.752170055\n",
            "73728.96099783156\n",
            "376514.93842862\n",
            "693365.1226329457\n",
            "824033.3843053315\n",
            "1203058.4315203135\n",
            "2134280.1191621344\n",
            "Squared error in linear fitting :  358148.62856803485\n"
          ],
          "name": "stdout"
        }
      ]
    },
    {
      "cell_type": "markdown",
      "metadata": {
        "id": "pEgWYcAHfH0E"
      },
      "source": [
        "### Approximating the number of Deaths on the given dates."
      ]
    },
    {
      "cell_type": "code",
      "metadata": {
        "colab": {
          "base_uri": "https://localhost:8080/"
        },
        "id": "rcNvLSPrQ3qY",
        "outputId": "977b32c6-f433-4b2b-ee98-e8c29b61901e"
      },
      "source": [
        "x1=-10 #For date 20,April 2021\n",
        "deaths_on_April_20=w0 + (w1 * x1)\n",
        "print(\"deaths on 20,April 2021 : \", deaths_on_April_20)"
      ],
      "execution_count": 17,
      "outputs": [
        {
          "output_type": "stream",
          "text": [
            "deaths on 20,April 2021 :  3273.7459062676453\n"
          ],
          "name": "stdout"
        }
      ]
    },
    {
      "cell_type": "code",
      "metadata": {
        "colab": {
          "base_uri": "https://localhost:8080/"
        },
        "id": "YKdwPRPVSapL",
        "outputId": "2eb843cc-572d-4e41-c4fe-90b92cf2ac3c"
      },
      "source": [
        "x2=41 #For date 10,June 2021\n",
        "deaths_on_June_10=w0 + (w1 * x2)\n",
        "print(\"deaths on 10,June 2021 : \", deaths_on_June_10)"
      ],
      "execution_count": 18,
      "outputs": [
        {
          "output_type": "stream",
          "text": [
            "deaths on 10,June 2021 :  4909.691134952005\n"
          ],
          "name": "stdout"
        }
      ]
    },
    {
      "cell_type": "markdown",
      "metadata": {
        "id": "w6yBWPPkURcG"
      },
      "source": [
        "### Graph Plot of resulting linear function computed"
      ]
    },
    {
      "cell_type": "code",
      "metadata": {
        "colab": {
          "base_uri": "https://localhost:8080/",
          "height": 0
        },
        "id": "7-n5dDoFToIr",
        "outputId": "8b790d67-fc0c-4ef9-b65f-c7ad44f973ab"
      },
      "source": [
        "plt.figure(figsize=(30, 7))\n",
        "\n",
        "plt.plot(date_formatted, [w0+w1*number for number in X],color='r')\n",
        "plt.scatter(date_formatted, Y)\n",
        "\n",
        "plt.xlabel('Dates', size=20)\n",
        "plt.ylabel('No. of Cases', size=20)\n",
        "plt.xticks(size=15)\n",
        "plt.yticks(size=15)\n",
        "plt.show()"
      ],
      "execution_count": 19,
      "outputs": [
        {
          "output_type": "display_data",
          "data": {
            "image/png": "[encoded data removed]",
            "text/plain": [
              "<Figure size 2160x504 with 1 Axes>"
            ]
          },
          "metadata": {
            "needs_background": "light"
          }
        }
      ]
    },
    {
      "cell_type": "markdown",
      "metadata": {
        "id": "0vW0pOr0gavJ"
      },
      "source": [
        "# Linear Regression Model(Assuming Quadratic Dependency)\n",
        "Let the hypothese be Y = w0 + w1*X +w2 * X^2 where Y is the number of deaths and X is the day."
      ]
    },
    {
      "cell_type": "markdown",
      "metadata": {
        "id": "5Q3G6qJD7UYi"
      },
      "source": [
        "### Counting Variables for the calculation."
      ]
    },
    {
      "cell_type": "code",
      "metadata": {
        "colab": {
          "base_uri": "https://localhost:8080/"
        },
        "id": "6DVcXNDluonj",
        "outputId": "41518c4f-d2b8-4440-8c22-198da4b47399"
      },
      "source": [
        "X2=[number ** 2 for number in X]\n",
        "X3=[number ** 3 for number in X]\n",
        "X4=[number ** 4 for number in X]\n",
        "\n",
        "XY = [X[i] * Y[i] for i in range(len(Y))]\n",
        "X2Y = [X2[i] * Y[i] for i in range(len(Y))]\n",
        "\n",
        "print(X2,X3,X4,XY,X2Y)"
      ],
      "execution_count": 20,
      "outputs": [
        {
          "output_type": "stream",
          "text": [
            "[1, 4, 9, 16, 25, 36, 49, 64, 81, 100, 121, 144, 169, 196, 225, 256, 289, 324, 361, 400, 441, 484, 529, 576, 625, 676, 729, 784, 841, 900, 961] [1, 8, 27, 64, 125, 216, 343, 512, 729, 1000, 1331, 1728, 2197, 2744, 3375, 4096, 4913, 5832, 6859, 8000, 9261, 10648, 12167, 13824, 15625, 17576, 19683, 21952, 24389, 27000, 29791] [1, 16, 81, 256, 625, 1296, 2401, 4096, 6561, 10000, 14641, 20736, 28561, 38416, 50625, 65536, 83521, 104976, 130321, 160000, 194481, 234256, 279841, 331776, 390625, 456976, 531441, 614656, 707281, 810000, 923521] [3523.0, 7378.0, 10251.0, 13796.0, 18900.0, 23880.0, 27405.0, 33496.0, 36828.0, 37540.0, 42636.0, 50460.0, 53560.0, 56000.0, 58350.0, 65232.0, 69802.0, 77922.0, 86051.0, 77480.0, 88389.0, 92268.0, 86043.0, 106896.0, 87775.0, 108082.0, 103869.0, 102480.0, 104893.0, 103800.0, 96968.0] [3523.0, 14756.0, 30753.0, 55184.0, 94500.0, 143280.0, 191835.0, 267968.0, 331452.0, 375400.0, 468996.0, 605520.0, 696280.0, 784000.0, 875250.0, 1043712.0, 1186634.0, 1402596.0, 1634969.0, 1549600.0, 1856169.0, 2029896.0, 1978989.0, 2565504.0, 2194375.0, 2810132.0, 2804463.0, 2869440.0, 3041897.0, 3114000.0, 3006008.0]\n"
          ],
          "name": "stdout"
        }
      ]
    },
    {
      "cell_type": "code",
      "metadata": {
        "colab": {
          "base_uri": "https://localhost:8080/"
        },
        "id": "uFXnQGA1v-la",
        "outputId": "79d4ea70-e855-4d39-f95d-cd813986547a"
      },
      "source": [
        "SIG_X = 0\n",
        "SIG_Y = 0\n",
        "SIG_X2 = 0\n",
        "SIG_X3 = 0\n",
        "SIG_X4 = 0\n",
        "SIG_XY = 0\n",
        "SIG_X2Y = 0\n",
        "\n",
        "m=22\n",
        "for i in range(0, m):\n",
        "    SIG_X += X[i]\n",
        "    SIG_Y += Y[i]\n",
        "    SIG_X2 += X2[i]\n",
        "    SIG_X3 += X3[i]\n",
        "    SIG_X4 += X4[i]\n",
        "    SIG_XY += XY[i]\n",
        "    SIG_X2Y += X2Y[i]\n",
        " \n",
        "print(SIG_X,SIG_Y,SIG_X2,SIG_X3,SIG_X4,SIG_XY,SIG_X2Y)"
      ],
      "execution_count": 21,
      "outputs": [
        {
          "output_type": "stream",
          "text": [
            "253 87195.0 3795 64009 1151403 1031147.0 15642273.0\n"
          ],
          "name": "stdout"
        }
      ]
    },
    {
      "cell_type": "markdown",
      "metadata": {
        "id": "uvTIvPFI7c03"
      },
      "source": [
        "### Calculating Value of weights."
      ]
    },
    {
      "cell_type": "code",
      "metadata": {
        "colab": {
          "base_uri": "https://localhost:8080/"
        },
        "id": "E5hbueyvxNlf",
        "outputId": "1f4baf02-30a0-4015-bf87-aa6e0204ada3"
      },
      "source": [
        "import numpy as np\n",
        "a = np.array([[SIG_X2, SIG_X3, SIG_X4], [SIG_X, SIG_X2, SIG_X3], [m, SIG_X, SIG_X2]])\n",
        "b = np.array([SIG_X2Y, SIG_XY, SIG_Y])\n",
        "\n",
        "w = np.linalg.solve(a, b)\n",
        "\n",
        "w"
      ],
      "execution_count": 22,
      "outputs": [
        {
          "output_type": "execute_result",
          "data": {
            "text/plain": [
              "array([ 3.42514286e+03,  7.44215133e+01, -1.84105025e+00])"
            ]
          },
          "metadata": {},
          "execution_count": 22
        }
      ]
    },
    {
      "cell_type": "markdown",
      "metadata": {
        "id": "h-s7sKQB7jMQ"
      },
      "source": [
        "### Calculating error in the last 9 days from the data set."
      ]
    },
    {
      "cell_type": "code",
      "metadata": {
        "colab": {
          "base_uri": "https://localhost:8080/"
        },
        "id": "kcnHBfs66FUc",
        "outputId": "f342abe9-a48c-4a13-d524-26a02e266865"
      },
      "source": [
        "def Jq(x):\n",
        "    return ( w[0] + (w[1]*x) + (w[2]*x*x)) \n",
        "\n",
        "sumOfDistance = 0\n",
        "for i in range(m, len(Y)):\n",
        "    print((Jq(X[i]) - Y[i])**2)\n",
        "    sumOfDistance += (Jq(X[i]) - Y[i])**2\n",
        "quadratic_error=sumOfDistance/(2*(len(Y)-m))\n",
        "print(\"Squared error in quadratic fitting : \",quadratic_error)"
      ],
      "execution_count": 23,
      "outputs": [
        {
          "output_type": "stream",
          "text": [
            "178018.23983808537\n",
            "91921.61158586956\n",
            "389406.302114087\n",
            "1717.9176066117825\n",
            "60220.21775636978\n",
            "164480.39752700992\n",
            "174760.34971645102\n",
            "292511.1793555258\n",
            "697158.9936571551\n",
            "Squared error in quadratic fitting :  113899.73384206473\n"
          ],
          "name": "stdout"
        }
      ]
    },
    {
      "cell_type": "markdown",
      "metadata": {
        "id": "7Ktv-Cvz7lgc"
      },
      "source": [
        "### Approximating the number of Deaths on the given dates."
      ]
    },
    {
      "cell_type": "code",
      "metadata": {
        "colab": {
          "base_uri": "https://localhost:8080/"
        },
        "id": "U2SmFy9p68V8",
        "outputId": "e8a14019-91c8-4794-96f6-f9c6b2376344"
      },
      "source": [
        "x1=-10 #For date 20,April 2021\n",
        "deaths_on_April_20=Jq(x1)\n",
        "print(\"deaths on 20,April 2021 : \", deaths_on_April_20)"
      ],
      "execution_count": 24,
      "outputs": [
        {
          "output_type": "stream",
          "text": [
            "deaths on 20,April 2021 :  2496.822699040106\n"
          ],
          "name": "stdout"
        }
      ]
    },
    {
      "cell_type": "code",
      "metadata": {
        "colab": {
          "base_uri": "https://localhost:8080/"
        },
        "id": "4oSVV0YB7FA4",
        "outputId": "15a16fc5-05b5-4e29-d4c0-ccd8b60500de"
      },
      "source": [
        "x2=41 #For date 10,June 2021\n",
        "deaths_on_June_10=Jq(x2)\n",
        "print(\"deaths on 10,June 2021 : \", deaths_on_June_10)"
      ],
      "execution_count": 25,
      "outputs": [
        {
          "output_type": "stream",
          "text": [
            "deaths on 10,June 2021 :  3381.6194240542277\n"
          ],
          "name": "stdout"
        }
      ]
    },
    {
      "cell_type": "markdown",
      "metadata": {
        "id": "qiTo-18cUlHq"
      },
      "source": [
        "### Graph Plot of resulting quadratic function computed"
      ]
    },
    {
      "cell_type": "code",
      "metadata": {
        "colab": {
          "base_uri": "https://localhost:8080/",
          "height": 0
        },
        "id": "owP1Ds8MUG0W",
        "outputId": "79fb24c4-a3dc-445a-b697-00547846c9a5"
      },
      "source": [
        "plt.figure(figsize=(30, 7))\n",
        "\n",
        "plt.plot(date_formatted, [Jq(number) for number in X],color='r')\n",
        "plt.scatter(date_formatted, Y)\n",
        "\n",
        "plt.xlabel('Dates', size=20)\n",
        "plt.ylabel('No. of Cases', size=20)\n",
        "plt.xticks(size=15)\n",
        "plt.yticks(size=15)\n",
        "plt.show()"
      ],
      "execution_count": 26,
      "outputs": [
        {
          "output_type": "display_data",
          "data": {
            "image/png": "[encoded data removed]",
            "text/plain": [
              "<Figure size 2160x504 with 1 Axes>"
            ]
          },
          "metadata": {
            "needs_background": "light"
          }
        }
      ]
    }
  ]
}